{
 "cells": [
  {
   "cell_type": "code",
   "execution_count": 37,
   "metadata": {},
   "outputs": [],
   "source": [
    "from top2vec import Top2Vec\n"
   ]
  },
  {
   "cell_type": "code",
   "execution_count": 38,
   "metadata": {},
   "outputs": [],
   "source": [
    "#prepping data\n",
    "def load_data(file):\n",
    "    with open(file, \"r\", encoding=\"utf-8\") as f:\n",
    "        data = json.load(f)\n",
    "\n",
    "    return data\n",
    "\n",
    "\n",
    "def write_data(file, data):\n",
    "    with open(file, \"w\", encoding=\"utf-8\") as f:\n",
    "        json.dump(data, f, indent=4)"
   ]
  },
  {
   "cell_type": "code",
   "execution_count": 39,
   "metadata": {},
   "outputs": [],
   "source": [
    "# loads descriptions of episodes\n",
    "episodes = load_data(\"data/plots.json\")\n",
    "\n",
    "# episode titles in the form of \"Season;Episode\"\n",
    "names = [str(episode[\"Season\"]) + \";\" + str(episode[\"No. inseason\"])\n",
    "         for episode in episodes]\n",
    "\n",
    "# maps episode titles to their index in the names array\n",
    "names_map = {}\n",
    "for index in range(len(names)):\n",
    "    names_map[names[index]] = index\n",
    "\n",
    "# episode summaries\n",
    "plots = [episode[\"plot\"] for episode in episodes]\n",
    "\n",
    "# episode summaries in the form of \"Season;Episode\\nSummary\"\n",
    "summaries = [str(episode[\"Season\"]) + \";\" + str(episode[\"No. inseason\"]\n",
    "                                                ) + \"\\n\" + str(episode[\"plot\"]) for episode in episodes]\n",
    "\n",
    "# loads episode scripts\n",
    "episodes_data = {}\n",
    "data = load_data(\"data/scripts.json\")\n",
    "\n",
    "for line in data:\n",
    "    episode_title = line[\"episode_name\"]\n",
    "    script_line = line[\"dialogue\"]\n",
    "\n",
    "    if episode_title not in episodes_data:\n",
    "        episodes_data[episode_title] = \"\"\n",
    "\n",
    "    episodes_data[episode_title] += script_line + \" \"\n",
    "\n",
    "episodes_array = []\n",
    "# Iterate through the episodes_data dictionary and extract the script lines\n",
    "for lines in episodes_data.values():\n",
    "    # Combine all script lines into a single string for each episode\n",
    "    episode_string = \"\".join(lines)\n",
    "    episodes_array.append(episode_string)\n",
    "\n",
    "# clean up the episode scripts and combine them with the episode summaries\n",
    "for i in range(len(episodes_array)):\n",
    "    episodes_array[i] = episodes_array[i].replace(\"\\\\n\", \" \")\n",
    "    episodes_array[i] = episodes_array[i].replace(\"\\\\\", \"\")\n",
    "    episodes_array[i] = episodes_array[i].replace(\"  \", \" \")\n",
    "    plots[i] = plots[i] + \" \" + episodes_array[i]\n",
    "    \n",
    "    "
   ]
  },
  {
   "cell_type": "code",
   "execution_count": 46,
   "metadata": {},
   "outputs": [
    {
     "name": "stdout",
     "output_type": "stream",
     "text": [
      "After an unsuccessful visit to the high-IQ sperm bank, Dr. Leonard Hofstadter and Dr. Sheldon Cooper return home to find aspiring actress Penny is their new neighbor across the hall from their apartment. Sheldon thinks Leonard, who is immediately interested in her, is chasing a dream he will never catch. Leonard invites Penny to his and Sheldon's apartment for Indian food, where she asks to use their shower since hers is broken. While wrapped in a towel, she gets to meet their visiting friends Howard Wolowitz, a wannabe ladies' man who tries to hit on her, and Rajesh Koothrappali, who is unable to speak to her as he suffers from selective mutism in the presence of women. Leonard is so infatuated with Penny that, after helping her use their shower, he agrees to retrieve her TV from her ex-boyfriend Kurt. However, Kurt's physical superiority overwhelms Leonard's and Sheldon's combined IQ of 360, and they return without pants or TV. Penny, feeling bad, offers to take the guys out to dinner, initiating a friendship with them.  A corridor at a sperm bank. So if a photon is directed through a plane with two slits in it and either slit is observed it will not go through both slits. If it’s unobserved it will, however, if it’s observed after it’s left the plane but before it hits its target, it will not have gone through both slits. Agreed, what’s your point? There’s no point, I just think it’s a good idea for a tee-shirt.  Excuse me? Hang on.  One across is Aegean, eight down is Nabakov, twenty-six across is MCM, fourteen down is… move your finger… phylum, which makes fourteen across Port-au-Prince. See, Papa Doc’s capital idea, that’s Port-au-Prince. Haiti.  Can I help you? Yes. Um, is this the High IQ sperm bank? If you have to ask, maybe you shouldn’t be here. I think this is the place. Fill these out. Thank-you. We’ll be right back. Oh, take your time. I’ll just finish my crossword puzzle. Oh wait. Leonard, I don’t think I can do this. What, are you kidding? You’re a semi-pro.  No. We are committing genetic fraud. There’s no guarantee that our sperm is going to generate high IQ offspring, think about that. I have a sister with the same basic DNA mix who hostesses at Fuddruckers. Sheldon, this was your idea. A little extra money to get fractional T1 bandwidth in the apartment. I know, and I do yearn for faster downloads, but there’s some poor woman is going to pin her hopes on my sperm, what if she winds up with a toddler who doesn’t know if he should use an integral or a differential to solve the area under a curve. I’m sure she’ll still love him. I wouldn’t. Well, what do you want to do? I want to leave. Okay. What’s the protocol for leaving? I don’t know, I’ve never reneged on a proffer of sperm before. Let’s try just walking out. Okay. Bye-bye See you. The stairs of the apartment building. Are you still mad about the sperm bank? No. You want to hear an interesting thing about stairs? Not really. If the height of a single step is off by as little as two millimetres, most people will trip. I don’t care. Two millimetres? That doesn’t seem right. No, it’s true, I did a series of experiments when I was twelve, my father broke his clavicle. Is that why they sent you to boarding school? No, that was the result of my work with lasers. New neighbour? Evidently. Significant improvement over the old neighbour. Two hundred pound transvestite with a skin condition, yes she is. Oh, hi! Hi. Hi. Hi. Hi. Hi? We don’t mean to interrupt, we live across the hall. Oh, that’s nice. Oh… uh… no… we don’t live together… um… we live together but in separate, heterosexual bedrooms. Oh, okay, well, guess I’m your new neighbour, Penny. Leonard, Sheldon. Hi. Hi. Hi. Hi.  Hi. Well, uh, oh, welcome to the building. Thankyou, maybe we can have coffee sometime. Oh, great. Great.  Great. Great. Well, bye. Bye. Bye. Bye.  Should we have invited her for lunch? No. We’re going to start Season Two of Battlestar Galactica. We already watched the Season Two DVDs. Not with commentary. I think we should be good neighbours, invite her over, make her feel welcome. We never invited Louis-slash-Louise over. Well, then that was wrong of us. We need to widen our circle. I have a very wide circle. I have 212 friends on myspace.  Yes, and you’ve never met one of them. That’s the beauty of it. I’m going to invite her over. We’ll have a nice meal and chat. Chat? We don’t chat. At least not offline. Well it’s not difficult, you just listen to what she says and then you say something appropriate in response. To what end? Hi. Again. Hi. Hi. Hi. Hi.  Anyway, um. We brought home Indian food. And, um. I know that moving can be stressful, and I find that when I’m undergoing stress, that good food and company can have a comforting effect. Also, curry is a natural laxative, and I don’t have to tell you that, uh, a clean colon is just one less thing to worry about. Leonard, I’m not expert here but I believe in the context of a luncheon invitation, you might want to skip the reference to bowel movements. Oh, you’re inviting me over to eat? Uh, yes. Oh, that’s so nice, I’d love to. Great. So, what do you guys do for fun around here? Well, today we tried masturbating for money. Sheldon and Leonard’s apartment. Okay, well, make yourself at home. Okay, thankyou. You’re very welcome. This looks like some serious stuff, Leonard, did you do this? Actually that’s my work. Wow. Yeah, well, it’s just some quantum mechanics, with a little string theory doodling around the edges. That part there, that’s just a joke, it’s a spoof of the Bourne-Oppenheimer approximation. So you’re like, one of those, beautiful mind genius guys. Yeah.  This is really impressive. I have a board. If you like boards, this is my board. Holy smokes. If by holy smokes you mean a derivative restatement of the kind of stuff you can find scribbled on the wall of any men’s room at MIT, sure. What? Oh, come on. Who hasn’t seen this differential below “here I sit broken hearted?” At least I didn’t have to invent twenty-six dimensions just to make the math come out. I didn’t invent them, they’re there. In what universe? In all of them, that is the point. Uh, do you guys mind if I start? Um, Penny, that’s where I sit. So, sit next to me.  No, I sit there. What’s the difference? What’s the difference? Here we go. In the winter that seat is close enough to the radiator to remain warm, and yet not so close as to cause perspiration. In the summer it’s directly in the path of a cross breeze created by open windows there, and there. It faces the television at an angle that is neither direct, thus discouraging conversation, nor so far wide to create a parallax distortion, I could go on, but I think I’ve made my point.  Do you want me to move? Well. Just sit somewhere else. Fine. (Wanders in circles, looking lost.) Sheldon, sit! Aaah! Well this is nice. We don’t have a lot of company over. That’s not true. Koothrapali and Wolowitz come over all the time.  Yes I now, but… Tuesday night we played Klingon boggle until one in the morning. Yes, I remember. I resent you saying we don’t have company. I’m sorry. That is an antisocial implication. I said I’m sorry. So, Klingon boggle? Yeah, it’s like regular boggle but, in Klingon. That’s probably enough about us, tell us about you. Um, me, okay, I’m Sagittarius, which probably tells you way more than you need to know. Yes, it tells us that you participate in the mass cultural delusion that the Sun’s apparent position relative to arbitrarily defined constellations and the time of your birth somehow effects your personality. Participate in the what? I think what Sheldon’s trying to say, is that Sagittarius wouldn’t have been our first guess. Oh, yeah, a lot of people think I’m a water sign. Okay, let’s see, what else, oh, I’m a vegetarian, oh, except for fish, and the occasional steak, I love steak.  That’s interesting. Leonard can’t process corn. Wu-uh, do you have some sort of a job? Oh, yeah, I’m a waitress at the Cheesecake Factory. Oh, okay. I love cheesecake. You’re lactose intolerant.  I don’t eat it, I just think it’s a good idea. Oh, anyways, I’m also writing a screenplay. It’s about this sensitive girl who comes to L.A. from Lincoln Nebraska to be an actress, and winds up a waitress at the Cheesecake Factory. So it’s based on your life? No, I’m from Omaha.  Well, if that was a movie I would go see it. I know, right? Okay, let’s see, what else? Um, that’s about it. That’s the story of Penny. Well it sounds wonderful. It was. Until I fell in love with a jerk.  What’s happening. I don’t know. Oh God, you know, four years I lived with him, four years, that’s like as long as High School.  It took you four years to get through High School? Don’t. I just, I can’t believe I trusted him. Should I say something? I feel like I should say something. You? No, you’ll only make it worse. You want to know the most pathetic part? Even though I hate his lying, cheating guts, I still love him. Is that crazy? Yes.  No, it’s not crazy it’s, uh, uh, it’s a paradox. And paradoxes are part of nature, think about light. Now if you look at Huygens, light is a wave, as confirmed by the double slit experiments, but then, along comes Albert Einstein and discovers that light behaves like particles too. Well, I didn’t make it worse. Oh, I’m so sorry, I’m such a mess, and on top of everything else I’m all gross from moving and my stupid shower doesn’t even work. Our shower works. Really? Would it be totally weird if I used it? Yes.  No. No? No. No. It’s right down the hall. Thanks. You guys are really sweet. Well this is an interesting development.  How so? It has been some time since we’ve had a woman take her clothes off in our apartment. That’s not true, remember at Thanksgiving my grandmother with Alzheimer’s had that episode. Point taken. It has been some time since we’ve had a woman take her clothes off after which we didn’t want to rip our eyes out.  The worst part was watching her carve that turkey. So, what exactly are you trying to accomplish here? Excuse me? That woman in there’s not going to have sex with you. Well I’m not trying to have sex with her. Oh, good. Then you won’t be disappointed. What makes you think she wouldn’t have sex with me, I’m a male and she’s a female? Yes, but not of the same species. I’m not going to engage in hypotheticals here, I’m just trying to be a good neighbour. Oh, of course. That’s not to say that if a carnal relationship were to develop that I wouldn’t participate. However briefly. Do you think this possibility will be helped or hindered when she discovers your Luke Skywalker no-more-tears shampoo? It’s Darth Vader shampoo. (There is a knock on the door.) Luke Skywalker’s the conditioner. Wait till you see this. It’s fantastic. Unbelievable. See what? It’s a Stephen Hawking lecture from MIT in 1974. This is not a good time. It’s before he became a creepy computer voice:. That’s great, you guys have to go. Why? It’s just not a good time. Leonard has a lady over. Yeah, right, your grandmother back in town? No. And she’s not a lady, she’s just a new neighbour. Hang on, there really is a lady here? Uh-huh. And you want us out because you’re anticipating coitus? I’m not anticipating coitus. So she’s available for coitus? Can we please stop saying coitus? Technically that would be coitus interruptus. Hey, is there a trick to getting it to switch from tub to shower. Oh. Hi, sorry. Hello! Enchante Madamoiselle. Howard Wolowitz, Cal-Tech department of Applied Physics. You may be familiar with some of my work, it’s currently orbiting Jupiter’s largest moon taking high-resolution digital photographs. Penny. I work at the Cheesecake Factory. Come on, I’ll show you the trick with the shower. Bon douche. I’m sorry? It’s French for good shower. It’s a sentiment I can express in six languages. Save it for your blog, Howard. See-ka-tong-guay-jow. In the bathroom. Uh, there it goes, it sticks, I’m sorry. Okay. Thanks.  You’re welcome, oh, you’re going to step right, okay, I’ll…. Hey, Leonard? The hair products are Sheldon’s. Um, okay. Can I ask you a favour. A favour? Sure, you can ask me a favour, I would do you a favour for you. It’s okay if you say no. Oh, I’ll probably say yes. It’s just not the kind of thing you ask a guy you’ve just met. Wow. Leonard and Sheldon, Inside Leonard’s car I really think we should examine the chain of causality here. Must we? Event A. A beautiful woman stands naked in our shower. Event B. We drive half way across town to retrieve a television set from the aforementioned woman’s ex-boyfriend. Query, on what plane of existence is there even a semi-rational link between these events? She asked me to do her a favour, Sheldon. Ah, yes, well that may be the proximal cause of our journey, but we both know it only exists in contradistinction to the higher level distal cause. Which is? You think with your penis. That’s a biological impossibility and you didn’t have to come. Oh, right, yes, I could have stayed behind and watched Wolowitz try to hit on Penny in Russian, Arabic and Farsi. Why can’t she get her own TV. Come on, you know how it is with break-ups. No I don’t. And neither do you. Wuh, I, I broke up with Joyce Kim. You did not break up with Joyce Kim, she defected to North Korea. To mend her broken heart. This situation is much less complicated. There’s some kind of dispute between Penny and her ex-boyfriend as to who gets custody of the TV. She just wanted to avoid having a scene with him. So we get to have a scene with him? No, Sheldon, there’s not going to be a scene. There’s two of us and one of him. Leonard, the two of us can’t even carry a TV.  Back at the apartment. So, you guys work with Leonard and Sheldon at the University? Uh, I’m sorry, do you speak English? Oh, he speaks English, he just can’t speak to women. Really, why? He’s kind of a nerd. Juice box? Outside Penny’s old apartment building. I’ll do the talking. Yeah. Hi, I’m Leonard, this is Sheldon. Hello. What did I just…. Uh, we’re here to pick up Penny’s TV. Get lost. Okay, thanks for your time. We’re not going to give up just like that. Leonard, the TV is in the building, we’ve been denied access to the building, ergo we are done. Excuse me, if I were to give up at the first little hitch I never would have been able to identify the fingerprints of string theory in the aftermath of the big bang. My apologies. What’s your plan. It’s just a privilege to watch your mind at work. Come on, we have a combined IQ of 360, we should be able to figure out how to get into a stupid building. What do you think their combined IQ is? Just grab the door. Outside Penny’s ex-boyfriend’s apartment. This is it. (Knocks.) I’ll do the talking. Good thinking, I’ll just be the muscle. Yeah? I’m Leonard, this is Sheldon. From the intercom. How the hell did you get in the building? Oh. We’re scientists. Tell him about our IQ. Outside the apartment building. Leonard and Sheldon exit. They are not wearing trousers. Leonard. What? My mom bought me those pants. I’m sorry. You’re going to have to call her. On the stairs of Sheldon and Leonard’s building. Sheldon, I’m so sorry I dragged you through this. It’s okay. It wasn’t my first pantsing, and it won’t be my last. And you were right about my motives, I was hoping to establish a relationship with Penny that might have some day led to sex. Well you got me out of my pants. Anyway, I’ve learned my lesson. She’s out of my league, I’m done with her, I’ve got my work, one day I’ll win the Nobel Prize and then I’ll die alone. Don’t think like that, you’re not going to die alone. Thank you Sheldon, you’re a good friend. And you’re certainly not going to win a Nobel Prize. Inside Sheldon and Leonard’s apartment. This is one of my favourite places to kick back after a quest, they have a great house ale. Wow, cool tiger. Yeah, I’ve had him since level ten. His name is Buttons. Anyway, if you had your own game character we could hang out, maybe go on a quest. Uh, sounds interesting. So you’ll think about it? Oh, I don’t think I’ll be able to stop thinking about it. Smooth. We’re home. Oh, my God, what happened? Well, your ex-boyfriend sends his regards and I think the rest is fairly self-explanatory. I’m so sorry, I really thought if you guys went instead of me he wouldn’t be such an ass. No, it was a valid hypothesis. That was a valid hypothesis? What is happening to you? Really, thank you so much for going and trying you’re, uh, you’re so terrific. Why don’t you put some clothes on, I’ll get my purse and dinner is on me, okay? Really? Great. Thank you. You’re not done with her, are you? Our babies will be smart and beautiful. Not to mention imaginary. All five in Leonard’s car. Is Thai food okay with you Penny? Sure. We can’t have Thai food, we had Indian for lunch. So? They’re both curry based cuisines. So? They would be gastronomically redundant. I can see we’re going to have to spell out everything for this girl. Any ideas Raj? (He just looks at her with a worried expression.) Turn left on Lake Street and head up to Colorado. I know a wonderful little sushi bar that has karaoke. That sounds like fun. Baby, baby don’t get hooked on me. Uh, baby, baby don’t get hooked on me. I don’t know what your odds are in the world as a whole, but as far as the population of this car goes, you’re a veritable Mack Daddy. \n"
     ]
    }
   ],
   "source": [
    "print((plots[0]))"
   ]
  },
  {
   "cell_type": "code",
   "execution_count": 40,
   "metadata": {},
   "outputs": [
    {
     "name": "stderr",
     "output_type": "stream",
     "text": [
      "2023-07-30 11:18:00,368 - top2vec - INFO - Pre-processing documents for training\n",
      "2023-07-30 11:18:00,940 - top2vec - INFO - Creating joint document/word embedding\n",
      "2023-07-30 11:18:17,572 - top2vec - INFO - Creating lower dimension embedding of documents\n",
      "2023-07-30 11:18:18,750 - top2vec - INFO - Finding dense areas of documents\n",
      "2023-07-30 11:18:18,759 - top2vec - INFO - Finding topics\n"
     ]
    }
   ],
   "source": [
    "\n",
    "model = Top2Vec(plots)\n"
   ]
  },
  {
   "cell_type": "code",
   "execution_count": 41,
   "metadata": {},
   "outputs": [
    {
     "name": "stdout",
     "output_type": "stream",
     "text": [
      "[0 1]\n"
     ]
    }
   ],
   "source": [
    "topic_sizes, topic_nums = model.get_topic_sizes()\n",
    "print(topic_nums)\n",
    "\n",
    "topic_words, word_scores, topic_nums = model.get_topics(2)"
   ]
  },
  {
   "cell_type": "code",
   "execution_count": 42,
   "metadata": {},
   "outputs": [
    {
     "name": "stdout",
     "output_type": "stream",
     "text": [
      "Topic #0: words\n",
      "Topic #1: words\n"
     ]
    }
   ],
   "source": [
    "for words, scores, num in zip(topic_words, word_scores, topic_nums):\n",
    "    print(f\"Topic #{num}: words\")"
   ]
  }
 ],
 "metadata": {
  "kernelspec": {
   "display_name": "Python 3.10.0 64-bit",
   "language": "python",
   "name": "python3"
  },
  "language_info": {
   "codemirror_mode": {
    "name": "ipython",
    "version": 3
   },
   "file_extension": ".py",
   "mimetype": "text/x-python",
   "name": "python",
   "nbconvert_exporter": "python",
   "pygments_lexer": "ipython3",
   "version": "3.10.0"
  },
  "orig_nbformat": 4,
  "vscode": {
   "interpreter": {
    "hash": "aee8b7b246df8f9039afb4144a1f6fd8d2ca17a180786b69acc140d282b71a49"
   }
  }
 },
 "nbformat": 4,
 "nbformat_minor": 2
}
