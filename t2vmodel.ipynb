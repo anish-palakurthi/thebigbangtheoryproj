{
 "cells": [
  {
   "cell_type": "code",
   "execution_count": 1,
   "metadata": {},
   "outputs": [
    {
     "name": "stderr",
     "output_type": "stream",
     "text": [
      "/Users/anishpalakurthi/Library/Python/3.10/lib/python/site-packages/umap/distances.py:1063: NumbaDeprecationWarning: The 'nopython' keyword argument was not supplied to the 'numba.jit' decorator. The implicit default value for this argument is currently False, but it will be changed to True in Numba 0.59.0. See https://numba.readthedocs.io/en/stable/reference/deprecation.html#deprecation-of-object-mode-fall-back-behaviour-when-using-jit for details.\n",
      "  @numba.jit()\n",
      "/Users/anishpalakurthi/Library/Python/3.10/lib/python/site-packages/umap/distances.py:1071: NumbaDeprecationWarning: The 'nopython' keyword argument was not supplied to the 'numba.jit' decorator. The implicit default value for this argument is currently False, but it will be changed to True in Numba 0.59.0. See https://numba.readthedocs.io/en/stable/reference/deprecation.html#deprecation-of-object-mode-fall-back-behaviour-when-using-jit for details.\n",
      "  @numba.jit()\n",
      "/Users/anishpalakurthi/Library/Python/3.10/lib/python/site-packages/umap/distances.py:1086: NumbaDeprecationWarning: The 'nopython' keyword argument was not supplied to the 'numba.jit' decorator. The implicit default value for this argument is currently False, but it will be changed to True in Numba 0.59.0. See https://numba.readthedocs.io/en/stable/reference/deprecation.html#deprecation-of-object-mode-fall-back-behaviour-when-using-jit for details.\n",
      "  @numba.jit()\n",
      "/Users/anishpalakurthi/Library/Python/3.10/lib/python/site-packages/umap/umap_.py:660: NumbaDeprecationWarning: The 'nopython' keyword argument was not supplied to the 'numba.jit' decorator. The implicit default value for this argument is currently False, but it will be changed to True in Numba 0.59.0. See https://numba.readthedocs.io/en/stable/reference/deprecation.html#deprecation-of-object-mode-fall-back-behaviour-when-using-jit for details.\n",
      "  @numba.jit()\n"
     ]
    }
   ],
   "source": [
    "from top2vec import Top2Vec\n",
    "import json\n"
   ]
  },
  {
   "cell_type": "code",
   "execution_count": 2,
   "metadata": {},
   "outputs": [],
   "source": [
    "#prepping data\n",
    "def load_data(file):\n",
    "    with open(file, \"r\", encoding=\"utf-8\") as f:\n",
    "        data = json.load(f)\n",
    "\n",
    "    return data\n",
    "\n",
    "\n",
    "def write_data(file, data):\n",
    "    with open(file, \"w\", encoding=\"utf-8\") as f:\n",
    "        json.dump(data, f, indent=4)"
   ]
  },
  {
   "cell_type": "markdown",
   "metadata": {},
   "source": []
  },
  {
   "cell_type": "code",
   "execution_count": 3,
   "metadata": {},
   "outputs": [],
   "source": [
    "# loads descriptions of episodes\n",
    "episodes = load_data(\"data/plots.json\")\n",
    "\n",
    "# episode titles in the form of \"Season;Episode\"\n",
    "names = [str(episode[\"Season\"]) + \";\" + str(episode[\"No. inseason\"])\n",
    "         for episode in episodes]\n",
    "\n",
    "# maps episode titles to their index in the names array\n",
    "names_map = {}\n",
    "for index in range(len(names)):\n",
    "    names_map[names[index]] = index\n",
    "\n",
    "# episode summaries\n",
    "plots = [episode[\"plot\"] for episode in episodes]\n",
    "\n",
    "# episode summaries in the form of \"Season;Episode\\nSummary\"\n",
    "summaries = [str(episode[\"Season\"]) + \";\" + str(episode[\"No. inseason\"]\n",
    "                                                ) + \"\\n\" + str(episode[\"plot\"]) for episode in episodes]\n",
    "\n",
    "# loads episode scripts\n",
    "episodes_data = {}\n",
    "data = load_data(\"data/scripts.json\")\n",
    "\n",
    "for line in data:\n",
    "    episode_title = line[\"episode_name\"]\n",
    "    script_line = line[\"dialogue\"]\n",
    "\n",
    "    if episode_title not in episodes_data:\n",
    "        episodes_data[episode_title] = \"\"\n",
    "\n",
    "    episodes_data[episode_title] += script_line + \" \"\n",
    "\n",
    "episodes_array = []\n",
    "# Iterate through the episodes_data dictionary and extract the script lines\n",
    "for lines in episodes_data.values():\n",
    "    # Combine all script lines into a single string for each episode\n",
    "    episode_string = \"\".join(lines)\n",
    "    episodes_array.append(episode_string)\n",
    "\n",
    "# clean up the episode scripts and combine them with the episode summaries\n",
    "for i in range(len(episodes_array)):\n",
    "    episodes_array[i] = episodes_array[i].replace(\"\\\\n\", \" \")\n",
    "    episodes_array[i] = episodes_array[i].replace(\"\\\\\", \"\")\n",
    "    episodes_array[i] = episodes_array[i].replace(\"  \", \" \")\n",
    "    plots[i] = plots[i] + \" \" + episodes_array[i]\n",
    "    \n",
    "    "
   ]
  },
  {
   "cell_type": "code",
   "execution_count": 14,
   "metadata": {},
   "outputs": [
    {
     "name": "stderr",
     "output_type": "stream",
     "text": [
      "2023-07-30 11:57:36,460 - top2vec - INFO - Pre-processing documents for training\n",
      "2023-07-30 11:57:37,236 - top2vec - INFO - Creating joint document/word embedding\n",
      "2023-07-30 11:58:27,508 - top2vec - INFO - Creating lower dimension embedding of documents\n",
      "2023-07-30 11:58:28,371 - top2vec - INFO - Finding dense areas of documents\n",
      "2023-07-30 11:58:28,375 - top2vec - INFO - Finding topics\n"
     ]
    }
   ],
   "source": [
    "\n",
    "model = Top2Vec(plots,\n",
    "    5)\n"
   ]
  },
  {
   "cell_type": "code",
   "execution_count": 16,
   "metadata": {},
   "outputs": [
    {
     "name": "stdout",
     "output_type": "stream",
     "text": [
      "[0 1]\n"
     ]
    }
   ],
   "source": [
    "topic_sizes, topic_nums = model.get_topic_sizes()\n",
    "print(topic_nums)\n",
    "\n",
    "topic_words, word_scores, topic_nums = model.get_topics(2)"
   ]
  },
  {
   "cell_type": "code",
   "execution_count": 54,
   "metadata": {},
   "outputs": [
    {
     "name": "stdout",
     "output_type": "stream",
     "text": [
      "Topic #0: words\n",
      "Topic #1: words\n"
     ]
    }
   ],
   "source": [
    "for words, scores, num in zip(topic_words, word_scores, topic_nums):\n",
    "    print(f\"Topic #{num}: words\")"
   ]
  }
 ],
 "metadata": {
  "kernelspec": {
   "display_name": "Python 3.10.0 64-bit",
   "language": "python",
   "name": "python3"
  },
  "language_info": {
   "codemirror_mode": {
    "name": "ipython",
    "version": 3
   },
   "file_extension": ".py",
   "mimetype": "text/x-python",
   "name": "python",
   "nbconvert_exporter": "python",
   "pygments_lexer": "ipython3",
   "version": "3.10.0"
  },
  "orig_nbformat": 4,
  "vscode": {
   "interpreter": {
    "hash": "aee8b7b246df8f9039afb4144a1f6fd8d2ca17a180786b69acc140d282b71a49"
   }
  }
 },
 "nbformat": 4,
 "nbformat_minor": 2
}
